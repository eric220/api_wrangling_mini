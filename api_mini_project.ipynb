{
 "cells": [
  {
   "cell_type": "code",
   "execution_count": 1,
   "metadata": {},
   "outputs": [],
   "source": [
    "# get api key from your .env file\n",
    "import os\n",
    "from dotenv import load_dotenv\n",
    "from collections import OrderedDict\n",
    "import requests\n",
    "import json\n",
    "import numpy as np\n",
    "load_dotenv()\n",
    "API_KEY = os.getenv('SECRET_KEY')"
   ]
  },
  {
   "cell_type": "code",
   "execution_count": 2,
   "metadata": {},
   "outputs": [],
   "source": [
    "#takes dictonary and returns list of opening prices\n",
    "def get_open_price(d):\n",
    "    opening_prices = []\n",
    "    for d_k in d.keys():\n",
    "        if d[d_k]['Open'] != None:\n",
    "            opening_prices.append(d[d_k]['Open'])\n",
    "    return opening_prices"
   ]
  },
  {
   "cell_type": "code",
   "execution_count": 3,
   "metadata": {},
   "outputs": [],
   "source": [
    "#1.Collect data from the Franfurt Stock Exchange, for the ticker AFX_X, for the whole year 2017 (keep in mind that the date format is YYYY-MM-DD).\n",
    "try:\n",
    "    r = requests.get('https://www.quandl.com/api/v3/datasets/FSE/AFX_X/data.json?start_date=2016-12-31&end_date=2017-12-31&api_key={}' .format(API_KEY))\n",
    "    assert r.status_code == 200\n",
    "except:\n",
    "    print('Retrieve Failed. Status Code: {}' .format(r.status_code))"
   ]
  },
  {
   "cell_type": "code",
   "execution_count": 4,
   "metadata": {},
   "outputs": [],
   "source": [
    "#2.Convert the returned JSON object into a Python dictionary.\n",
    "r_json = r.json()\n",
    "keys = r_json['dataset_data']['column_names']\n",
    "afx_x_date_dict = OrderedDict()\n",
    "for i in r_json['dataset_data']['data']:\n",
    "    date_key = i[:1]\n",
    "    key = keys[1:]\n",
    "    data = i[1:]\n",
    "    day_dict = dict(zip(key, data))\n",
    "    afx_x_date_dict.update({date_key[0]:day_dict})"
   ]
  },
  {
   "cell_type": "code",
   "execution_count": 5,
   "metadata": {},
   "outputs": [
    {
     "name": "stdout",
     "output_type": "stream",
     "text": [
      "Max Price: 53.11\n",
      "Min Price: 34.0\n"
     ]
    }
   ],
   "source": [
    "#3.Calculate what the highest and lowest opening prices were for the stock in this period.\n",
    "opening_prices = get_open_price(afx_x_date_dict)\n",
    "print('Max Price: {}' .format(np.max(opening_prices)))\n",
    "print('Min Price: {}' .format(np.min(opening_prices)))"
   ]
  },
  {
   "cell_type": "code",
   "execution_count": 6,
   "metadata": {},
   "outputs": [
    {
     "data": {
      "text/plain": [
       "['Date',\n",
       " 'Open',\n",
       " 'High',\n",
       " 'Low',\n",
       " 'Close',\n",
       " 'Change',\n",
       " 'Traded Volume',\n",
       " 'Turnover',\n",
       " 'Last Price of the Day',\n",
       " 'Daily Traded Units',\n",
       " 'Daily Turnover']"
      ]
     },
     "execution_count": 6,
     "metadata": {},
     "output_type": "execute_result"
    }
   ],
   "source": [
    "keys"
   ]
  },
  {
   "cell_type": "code",
   "execution_count": 7,
   "metadata": {},
   "outputs": [
    {
     "name": "stdout",
     "output_type": "stream",
     "text": [
      "Largest One Day Change: 2.81\n"
     ]
    }
   ],
   "source": [
    "#4.What was the largest change in any one day (based on High and Low price)?\n",
    "delta = []\n",
    "for k in afx_x_date_dict.keys():\n",
    "    high = afx_x_date_dict[k]['High']\n",
    "    low = afx_x_date_dict[k]['Low']\n",
    "    delta.append(high - low)\n",
    "print('Largest One Day Change: {:.2f}' .format(np.max(delta)))"
   ]
  },
  {
   "cell_type": "code",
   "execution_count": 8,
   "metadata": {},
   "outputs": [
    {
     "name": "stdout",
     "output_type": "stream",
     "text": [
      "Largest Change Between 2 Consecutive Days: 2.56\n"
     ]
    }
   ],
   "source": [
    "#5.What was the largest change between any two days (based on Closing Price)? Consecutive???\n",
    "closing_price = []\n",
    "closing_diff = []\n",
    "for k in afx_x_date_dict.keys():\n",
    "    closing_price.append(afx_x_date_dict[k]['Close'])\n",
    "for i in range(0, len(closing_price)):\n",
    "    try:\n",
    "        closing_diff.append(np.diff(closing_price[i:i+2])[0])\n",
    "    except:\n",
    "        pass\n",
    "print('Largest Change Between 2 Consecutive Days: {:.2f}' .format(closing_diff[np.argmax(np.abs(closing_diff))]))"
   ]
  },
  {
   "cell_type": "code",
   "execution_count": 9,
   "metadata": {},
   "outputs": [
    {
     "name": "stdout",
     "output_type": "stream",
     "text": [
      "Average Daily Trading Volume: 89124.34\n"
     ]
    }
   ],
   "source": [
    "#6.What was the average daily trading volume during this year?\n",
    "daily_volume = []\n",
    "for k in afx_x_date_dict.keys():\n",
    "    daily_volume.append(afx_x_date_dict[k]['Traded Volume'])\n",
    "print('Average Daily Trading Volume: {:.2f}' .format(np.mean(daily_volume)))"
   ]
  },
  {
   "cell_type": "code",
   "execution_count": 10,
   "metadata": {},
   "outputs": [
    {
     "name": "stdout",
     "output_type": "stream",
     "text": [
      "Median Trading Volume: 76286.0\n"
     ]
    }
   ],
   "source": [
    "#7.What was the median trading volume during this year.\n",
    "sorted_daily = np.sort(daily_volume)\n",
    "print('Median Trading Volume: {}' .format(sorted_daily[int(len(sorted_daily)*.5): int(len(sorted_daily)*.5)+1][0]))"
   ]
  }
 ],
 "metadata": {
  "kernelspec": {
   "display_name": "Python [conda env:py3] *",
   "language": "python",
   "name": "conda-env-py3-py"
  },
  "language_info": {
   "codemirror_mode": {
    "name": "ipython",
    "version": 3
   },
   "file_extension": ".py",
   "mimetype": "text/x-python",
   "name": "python",
   "nbconvert_exporter": "python",
   "pygments_lexer": "ipython3",
   "version": "3.7.11"
  }
 },
 "nbformat": 4,
 "nbformat_minor": 2
}
